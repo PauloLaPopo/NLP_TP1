{
 "cells": [
  {
   "cell_type": "markdown",
   "id": "c9e0a043",
   "metadata": {},
   "source": [
    "# Mandatory Assigment 1 Part B\n",
    "\n",
    "### Exercice 2 Downloading text and Zipf's law"
   ]
  },
  {
   "cell_type": "markdown",
   "id": "474d1366",
   "metadata": {},
   "source": [
    "Question a."
   ]
  },
  {
   "cell_type": "code",
   "execution_count": 1,
   "id": "c90392d9",
   "metadata": {},
   "outputs": [
    {
     "data": {
      "text/plain": [
       "'The Project Gutenberg eBook of The Adventures of Tom Sawyer, by Mark Twain\\r'"
      ]
     },
     "execution_count": 1,
     "metadata": {},
     "output_type": "execute_result"
    }
   ],
   "source": [
    "from urllib import request\n",
    "import nltk\n",
    "\n",
    "url = \"https://www.gutenberg.org/files/74/74-0.txt\"\n",
    "response = request.urlopen(url)\n",
    "raw = response.read().decode('utf-8-sig')\n",
    "type(raw)\n",
    "len(raw)\n",
    "raw[:75]"
   ]
  },
  {
   "cell_type": "markdown",
   "id": "7cbdc235",
   "metadata": {},
   "source": [
    "Question b & c."
   ]
  },
  {
   "cell_type": "code",
   "execution_count": 2,
   "id": "d5cb2672",
   "metadata": {},
   "outputs": [
    {
     "data": {
      "text/plain": [
       "['The',\n",
       " 'Project',\n",
       " 'Gutenberg',\n",
       " 'eBook',\n",
       " 'of',\n",
       " 'The',\n",
       " 'Adventures',\n",
       " 'of',\n",
       " 'Tom',\n",
       " 'Sawyer']"
      ]
     },
     "execution_count": 2,
     "metadata": {},
     "output_type": "execute_result"
    }
   ],
   "source": [
    "from nltk.tokenize import word_tokenize\n",
    "\n",
    "tokens = word_tokenize(raw)\n",
    "type(tokens)\n",
    "len(tokens)\n",
    "tokens[:10]"
   ]
  },
  {
   "cell_type": "code",
   "execution_count": 3,
   "id": "fa5e68c0",
   "metadata": {},
   "outputs": [
    {
     "data": {
      "text/plain": [
       "776"
      ]
     },
     "execution_count": 3,
     "metadata": {},
     "output_type": "execute_result"
    }
   ],
   "source": [
    "raw.find(\"START OF THE PROJECT GUTENBERG EBOOK THE ADVENTURES OF TOM SAWYER\")"
   ]
  },
  {
   "cell_type": "code",
   "execution_count": 4,
   "id": "a4f173bd",
   "metadata": {},
   "outputs": [
    {
     "data": {
      "text/plain": [
       "402279"
      ]
     },
     "execution_count": 4,
     "metadata": {},
     "output_type": "execute_result"
    }
   ],
   "source": [
    "raw.rfind(\"END OF THE PROJECT GUTENBERG EBOOK THE ADVENTURES OF TOM SAWYER\")"
   ]
  },
  {
   "cell_type": "code",
   "execution_count": 5,
   "id": "9f1ec52b",
   "metadata": {},
   "outputs": [
    {
     "data": {
      "text/plain": [
       "0"
      ]
     },
     "execution_count": 5,
     "metadata": {},
     "output_type": "execute_result"
    }
   ],
   "source": [
    "raw = raw[7977:402279] \n",
    "raw.find(\"HARTFORD, 1876.\")"
   ]
  },
  {
   "cell_type": "code",
   "execution_count": 6,
   "id": "03c712f8",
   "metadata": {},
   "outputs": [],
   "source": [
    "import string \n",
    "import re \n",
    "from string import punctuation\n",
    "\n",
    "raw_stripped = raw.lower()  \n",
    "raw_stripped = re.sub(f\"[{re.escape(punctuation)}]\", \"\", raw_stripped)  \n",
    "raw_stripped = re.sub(f\"“\", \"\", raw_stripped)  \n",
    "raw_stripped = re.sub(f\"”\", \"\", raw_stripped)  \n",
    "raw_stripped = re.sub(f\"—\", \"\", raw_stripped) \n",
    "raw_stripped = re.sub(f\"’\", \"\", raw_stripped) \n",
    "raw_stripped = \" \".join(raw_stripped.split()) \n"
   ]
  },
  {
   "cell_type": "code",
   "execution_count": 7,
   "id": "df3111dc",
   "metadata": {},
   "outputs": [
    {
     "data": {
      "text/plain": [
       "['hartford',\n",
       " '1876',\n",
       " 'chapter',\n",
       " 'i',\n",
       " 'tom',\n",
       " 'no',\n",
       " 'answer',\n",
       " 'tom',\n",
       " 'no',\n",
       " 'answer']"
      ]
     },
     "execution_count": 7,
     "metadata": {},
     "output_type": "execute_result"
    }
   ],
   "source": [
    "tokens = word_tokenize(raw_stripped)\n",
    "type(tokens)\n",
    "len(tokens)\n",
    "tokens[:10]"
   ]
  },
  {
   "cell_type": "markdown",
   "id": "8559f737",
   "metadata": {},
   "source": [
    "In this section we have cleaned up the text. We have therefore selected only the text that interests us by removing the appendices and copyrights. Then we put the text in lower case, removed the punctuation marks. In the text, we can see some punctuation marks that are variants, I had to remove them one by one. "
   ]
  },
  {
   "cell_type": "markdown",
   "id": "172ea825",
   "metadata": {},
   "source": [
    "Question d."
   ]
  },
  {
   "cell_type": "code",
   "execution_count": 8,
   "id": "74f3fed7",
   "metadata": {},
   "outputs": [
    {
     "name": "stdout",
     "output_type": "stream",
     "text": [
      "the : 5.252834726835414\n",
      "and : 4.277860497079372\n",
      "a : 2.565570954071698\n",
      "to : 2.4367197342801514\n",
      "of : 2.051597755125415\n",
      "he : 1.6893826594891765\n",
      "was : 1.6693391364104915\n",
      "it : 1.593460084755469\n",
      "in : 1.3357576451723743\n",
      "that : 1.2713320352766007\n",
      "his : 1.1653876990035505\n",
      "you : 1.086645286908716\n",
      "i : 1.0623067231703127\n",
      "tom : 0.9606574275569808\n",
      "with : 0.9191387011797045\n",
      "but : 0.7774023594090024\n",
      "they : 0.7731073187492842\n",
      "had : 0.7315885923720078\n",
      "for : 0.7158401099530409\n",
      "him : 0.6113274538998968\n"
     ]
    }
   ],
   "source": [
    "import pandas as pd\n",
    "\n",
    "\n",
    "fdist1 = nltk.FreqDist(tokens)\n",
    "\n",
    "tt=fdist1.most_common(20)\n",
    "\n",
    "for k, v in tt:\n",
    "    v=v/len(tokens)*100\n",
    "    print(\"%s : %s\" % (k, v))\n"
   ]
  },
  {
   "cell_type": "markdown",
   "id": "1782b099",
   "metadata": {},
   "source": [
    "Question e."
   ]
  },
  {
   "cell_type": "code",
   "execution_count": 9,
   "id": "4ac68256",
   "metadata": {},
   "outputs": [
    {
     "name": "stdout",
     "output_type": "stream",
     "text": [
      "Words occur 1 time : 1227\n",
      "Words occur 2 time : 580\n",
      "Words occur 3 time : 388\n",
      "Words occur 4 time : 220\n",
      "Words occur 5 time : 173\n",
      "Words occur 6 time : 151\n",
      "Words occur 7 time : 124\n",
      "Words occur 8 time : 75\n",
      "Words occur 9 time : 96\n",
      "Words occur 10 time : 66\n"
     ]
    }
   ],
   "source": [
    "occurs = []\n",
    "x=1\n",
    "\n",
    "while x<11:\n",
    "    filter_words = dict([(m, n) for m, n in fdist1.items() if n == x+1])\n",
    "    occurs.append([x,len(filter_words)])\n",
    "    print(\"Words occur %s time : %s\" % (x, len(filter_words)))\n",
    "    x=x+1\n",
    "    \n",
    "\n"
   ]
  },
  {
   "cell_type": "code",
   "execution_count": 10,
   "id": "c6b84ff8",
   "metadata": {},
   "outputs": [
    {
     "name": "stdout",
     "output_type": "stream",
     "text": [
      "Words occur between 11 and 50 times : 493\n"
     ]
    }
   ],
   "source": [
    "filter_words_11_50 = dict([(m, n) for m, n in fdist1.items() if n >10 if n<51])\n",
    "\n",
    "occurs.append(['11-50',len(filter_words_11_50)])\n",
    "\n",
    "print(\"Words occur between 11 and 50 times : %s\" % len(filter_words_11_50))"
   ]
  },
  {
   "cell_type": "code",
   "execution_count": 11,
   "id": "796b326c",
   "metadata": {},
   "outputs": [
    {
     "name": "stdout",
     "output_type": "stream",
     "text": [
      "Words occur between 50 and 100 times : 82\n"
     ]
    }
   ],
   "source": [
    "filter_words_51_100 = dict([(m, n) for m, n in fdist1.items() if n >50 if n<101])\n",
    "\n",
    "occurs.append(['50-100',len(filter_words_51_100)])\n",
    "\n",
    "print(\"Words occur between 50 and 100 times : %s\" % len(filter_words_51_100))"
   ]
  },
  {
   "cell_type": "code",
   "execution_count": 12,
   "id": "a33d745d",
   "metadata": {},
   "outputs": [
    {
     "name": "stdout",
     "output_type": "stream",
     "text": [
      "Words occur more than 100 times : 97\n"
     ]
    }
   ],
   "source": [
    "filter_words_100 = dict([(m, n) for m, n in fdist1.items() if n >100])\n",
    "\n",
    "occurs.append([100,len(filter_words_100)])\n",
    "\n",
    "print(\"Words occur more than 100 times : %s\" % len(filter_words_100))"
   ]
  },
  {
   "cell_type": "code",
   "execution_count": 13,
   "id": "85efa321",
   "metadata": {},
   "outputs": [
    {
     "data": {
      "text/html": [
       "<div>\n",
       "<style scoped>\n",
       "    .dataframe tbody tr th:only-of-type {\n",
       "        vertical-align: middle;\n",
       "    }\n",
       "\n",
       "    .dataframe tbody tr th {\n",
       "        vertical-align: top;\n",
       "    }\n",
       "\n",
       "    .dataframe thead th {\n",
       "        text-align: right;\n",
       "    }\n",
       "</style>\n",
       "<table border=\"1\" class=\"dataframe\">\n",
       "  <thead>\n",
       "    <tr style=\"text-align: right;\">\n",
       "      <th></th>\n",
       "      <th>Occurences</th>\n",
       "      <th>Number of words</th>\n",
       "    </tr>\n",
       "  </thead>\n",
       "  <tbody>\n",
       "    <tr>\n",
       "      <th>0</th>\n",
       "      <td>1</td>\n",
       "      <td>1227</td>\n",
       "    </tr>\n",
       "    <tr>\n",
       "      <th>1</th>\n",
       "      <td>2</td>\n",
       "      <td>580</td>\n",
       "    </tr>\n",
       "    <tr>\n",
       "      <th>2</th>\n",
       "      <td>3</td>\n",
       "      <td>388</td>\n",
       "    </tr>\n",
       "    <tr>\n",
       "      <th>3</th>\n",
       "      <td>4</td>\n",
       "      <td>220</td>\n",
       "    </tr>\n",
       "    <tr>\n",
       "      <th>4</th>\n",
       "      <td>5</td>\n",
       "      <td>173</td>\n",
       "    </tr>\n",
       "    <tr>\n",
       "      <th>5</th>\n",
       "      <td>6</td>\n",
       "      <td>151</td>\n",
       "    </tr>\n",
       "    <tr>\n",
       "      <th>6</th>\n",
       "      <td>7</td>\n",
       "      <td>124</td>\n",
       "    </tr>\n",
       "    <tr>\n",
       "      <th>7</th>\n",
       "      <td>8</td>\n",
       "      <td>75</td>\n",
       "    </tr>\n",
       "    <tr>\n",
       "      <th>8</th>\n",
       "      <td>9</td>\n",
       "      <td>96</td>\n",
       "    </tr>\n",
       "    <tr>\n",
       "      <th>9</th>\n",
       "      <td>10</td>\n",
       "      <td>66</td>\n",
       "    </tr>\n",
       "    <tr>\n",
       "      <th>10</th>\n",
       "      <td>11-50</td>\n",
       "      <td>493</td>\n",
       "    </tr>\n",
       "    <tr>\n",
       "      <th>11</th>\n",
       "      <td>50-100</td>\n",
       "      <td>82</td>\n",
       "    </tr>\n",
       "    <tr>\n",
       "      <th>12</th>\n",
       "      <td>100</td>\n",
       "      <td>97</td>\n",
       "    </tr>\n",
       "  </tbody>\n",
       "</table>\n",
       "</div>"
      ],
      "text/plain": [
       "   Occurences  Number of words\n",
       "0           1             1227\n",
       "1           2              580\n",
       "2           3              388\n",
       "3           4              220\n",
       "4           5              173\n",
       "5           6              151\n",
       "6           7              124\n",
       "7           8               75\n",
       "8           9               96\n",
       "9          10               66\n",
       "10      11-50              493\n",
       "11     50-100               82\n",
       "12        100               97"
      ]
     },
     "execution_count": 13,
     "metadata": {},
     "output_type": "execute_result"
    }
   ],
   "source": [
    "table = pd.DataFrame(occurs)\n",
    "table.columns = ['Occurences','Number of words']\n",
    "table"
   ]
  },
  {
   "cell_type": "markdown",
   "id": "6ad0c76f",
   "metadata": {},
   "source": [
    "Question f."
   ]
  },
  {
   "cell_type": "code",
   "execution_count": 14,
   "id": "28ae915e",
   "metadata": {},
   "outputs": [],
   "source": [
    "from collections import Counter\n",
    "\n",
    "cnt = nltk.FreqDist(tokens)\n",
    "\n",
    "words_by_frequencie=cnt.most_common(len(cnt))\n"
   ]
  },
  {
   "cell_type": "code",
   "execution_count": 15,
   "id": "9f69401c",
   "metadata": {},
   "outputs": [
    {
     "data": {
      "text/html": [
       "<div>\n",
       "<style scoped>\n",
       "    .dataframe tbody tr th:only-of-type {\n",
       "        vertical-align: middle;\n",
       "    }\n",
       "\n",
       "    .dataframe tbody tr th {\n",
       "        vertical-align: top;\n",
       "    }\n",
       "\n",
       "    .dataframe thead th {\n",
       "        text-align: right;\n",
       "    }\n",
       "</style>\n",
       "<table border=\"1\" class=\"dataframe\">\n",
       "  <thead>\n",
       "    <tr style=\"text-align: right;\">\n",
       "      <th></th>\n",
       "      <th>Rank</th>\n",
       "      <th>Zipf</th>\n",
       "    </tr>\n",
       "  </thead>\n",
       "  <tbody>\n",
       "    <tr>\n",
       "      <th>0</th>\n",
       "      <td>1</td>\n",
       "      <td>3669</td>\n",
       "    </tr>\n",
       "    <tr>\n",
       "      <th>1</th>\n",
       "      <td>2</td>\n",
       "      <td>5976</td>\n",
       "    </tr>\n",
       "    <tr>\n",
       "      <th>2</th>\n",
       "      <td>3</td>\n",
       "      <td>5376</td>\n",
       "    </tr>\n",
       "    <tr>\n",
       "      <th>3</th>\n",
       "      <td>4</td>\n",
       "      <td>6808</td>\n",
       "    </tr>\n",
       "    <tr>\n",
       "      <th>4</th>\n",
       "      <td>5</td>\n",
       "      <td>7165</td>\n",
       "    </tr>\n",
       "    <tr>\n",
       "      <th>5</th>\n",
       "      <td>6</td>\n",
       "      <td>7080</td>\n",
       "    </tr>\n",
       "    <tr>\n",
       "      <th>6</th>\n",
       "      <td>7</td>\n",
       "      <td>8162</td>\n",
       "    </tr>\n",
       "    <tr>\n",
       "      <th>7</th>\n",
       "      <td>8</td>\n",
       "      <td>8904</td>\n",
       "    </tr>\n",
       "    <tr>\n",
       "      <th>8</th>\n",
       "      <td>9</td>\n",
       "      <td>8397</td>\n",
       "    </tr>\n",
       "    <tr>\n",
       "      <th>9</th>\n",
       "      <td>10</td>\n",
       "      <td>8880</td>\n",
       "    </tr>\n",
       "    <tr>\n",
       "      <th>10</th>\n",
       "      <td>11</td>\n",
       "      <td>8954</td>\n",
       "    </tr>\n",
       "    <tr>\n",
       "      <th>11</th>\n",
       "      <td>12</td>\n",
       "      <td>9108</td>\n",
       "    </tr>\n",
       "    <tr>\n",
       "      <th>12</th>\n",
       "      <td>13</td>\n",
       "      <td>9646</td>\n",
       "    </tr>\n",
       "    <tr>\n",
       "      <th>13</th>\n",
       "      <td>14</td>\n",
       "      <td>9394</td>\n",
       "    </tr>\n",
       "    <tr>\n",
       "      <th>14</th>\n",
       "      <td>15</td>\n",
       "      <td>9630</td>\n",
       "    </tr>\n",
       "    <tr>\n",
       "      <th>15</th>\n",
       "      <td>16</td>\n",
       "      <td>8688</td>\n",
       "    </tr>\n",
       "    <tr>\n",
       "      <th>16</th>\n",
       "      <td>17</td>\n",
       "      <td>9180</td>\n",
       "    </tr>\n",
       "    <tr>\n",
       "      <th>17</th>\n",
       "      <td>18</td>\n",
       "      <td>9198</td>\n",
       "    </tr>\n",
       "    <tr>\n",
       "      <th>18</th>\n",
       "      <td>19</td>\n",
       "      <td>9500</td>\n",
       "    </tr>\n",
       "    <tr>\n",
       "      <th>19</th>\n",
       "      <td>20</td>\n",
       "      <td>8540</td>\n",
       "    </tr>\n",
       "  </tbody>\n",
       "</table>\n",
       "</div>"
      ],
      "text/plain": [
       "    Rank  Zipf\n",
       "0      1  3669\n",
       "1      2  5976\n",
       "2      3  5376\n",
       "3      4  6808\n",
       "4      5  7165\n",
       "5      6  7080\n",
       "6      7  8162\n",
       "7      8  8904\n",
       "8      9  8397\n",
       "9     10  8880\n",
       "10    11  8954\n",
       "11    12  9108\n",
       "12    13  9646\n",
       "13    14  9394\n",
       "14    15  9630\n",
       "15    16  8688\n",
       "16    17  9180\n",
       "17    18  9198\n",
       "18    19  9500\n",
       "19    20  8540"
      ]
     },
     "execution_count": 15,
     "metadata": {},
     "output_type": "execute_result"
    }
   ],
   "source": [
    "x=1\n",
    "Zipf=[]\n",
    "\n",
    "while x<21:\n",
    "    Zipf.append((x,x*words_by_frequencie[x-1][1]))\n",
    "    x=x+1\n",
    "    \n",
    "table_Zipf = pd.DataFrame(Zipf)\n",
    "table_Zipf.columns = ['Rank','Zipf']\n",
    "\n",
    "table_Zipf"
   ]
  },
  {
   "cell_type": "markdown",
   "id": "5f61eead",
   "metadata": {},
   "source": [
    "We can see that from the 6th or 7th rank, Zipf's law stabilises and is close to being constant. It seems logical that the first ranks are not exactly average.\n",
    "As in the graph of Zipf's law, we see that the first values of r*n are not all constant. This stabilises from a certain rank. This confirms our calculations in this part"
   ]
  },
  {
   "cell_type": "code",
   "execution_count": 16,
   "id": "eff840ff",
   "metadata": {},
   "outputs": [
    {
     "data": {
      "image/png": "[encoded data removed]",
      "text/plain": [
       "<Figure size 432x288 with 1 Axes>"
      ]
     },
     "metadata": {
      "needs_background": "light"
     },
     "output_type": "display_data"
    }
   ],
   "source": [
    "import matplotlib.pyplot as plt\n",
    "\n",
    "x=1\n",
    "rank=[]\n",
    "freq=[]\n",
    "while x<len(cnt)+1:\n",
    "    rank.append(x)\n",
    "    freq.append(words_by_frequencie[x-1][1])\n",
    "    x=x+1\n",
    "\n",
    "\n",
    "plt.plot(rank,freq)\n",
    "plt.xlabel('rank')\n",
    "plt.ylabel('frequency')\n",
    "plt.title(\"Zipf's Law\")\n",
    "plt.show()"
   ]
  },
  {
   "cell_type": "code",
   "execution_count": 17,
   "id": "a9eb766e",
   "metadata": {},
   "outputs": [
    {
     "data": {
      "image/png": "[encoded data removed]",
      "text/plain": [
       "<Figure size 432x288 with 1 Axes>"
      ]
     },
     "metadata": {
      "needs_background": "light"
     },
     "output_type": "display_data"
    }
   ],
   "source": [
    "import numpy as np\n",
    "\n",
    "x=1\n",
    "rank=[]\n",
    "freq=[]\n",
    "while x<len(cnt)+1:\n",
    "    rank.append(np.log2(x))\n",
    "    freq.append(np.log2(words_by_frequencie[x-1][1]))\n",
    "    x=x+1\n",
    "    \n",
    "    \n",
    "plt.plot(rank,freq)\n",
    "plt.xlabel('log(rank)')\n",
    "plt.ylabel('log(frequency)')\n",
    "plt.title(\"Zipf's Law\")\n",
    "plt.show()"
   ]
  }
 ],
 "metadata": {
  "kernelspec": {
   "display_name": "Python 3 (ipykernel)",
   "language": "python",
   "name": "python3"
  },
  "language_info": {
   "codemirror_mode": {
    "name": "ipython",
    "version": 3
   },
   "file_extension": ".py",
   "mimetype": "text/x-python",
   "name": "python",
   "nbconvert_exporter": "python",
   "pygments_lexer": "ipython3",
   "version": "3.9.7"
  }
 },
 "nbformat": 4,
 "nbformat_minor": 5
}
