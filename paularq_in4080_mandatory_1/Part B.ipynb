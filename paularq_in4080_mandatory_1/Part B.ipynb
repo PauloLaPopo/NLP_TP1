{
 "cells": [
  {
   "cell_type": "markdown",
   "id": "fb6c7822",
   "metadata": {},
   "source": [
    "# Exercice 1\n",
    "\n",
    "\n",
    "## 1a) Initial classifier"
   ]
  },
  {
   "cell_type": "code",
   "execution_count": 1,
   "id": "789ed1f2",
   "metadata": {},
   "outputs": [],
   "source": [
    "import nltk\n",
    "import random\n",
    "import numpy as np\n",
    "import scipy as sp\n",
    "import sklearn\n",
    "from sklearn.feature_extraction.text import CountVectorizer\n",
    "from sklearn.naive_bayes import MultinomialNB\n",
    "from sklearn.linear_model import LogisticRegression"
   ]
  },
  {
   "cell_type": "code",
   "execution_count": 2,
   "id": "9a425392",
   "metadata": {},
   "outputs": [],
   "source": [
    "from nltk.corpus import movie_reviews"
   ]
  },
  {
   "cell_type": "code",
   "execution_count": 3,
   "id": "99db3428",
   "metadata": {},
   "outputs": [],
   "source": [
    "raw_movie_docs = [(movie_reviews.raw(fileid), category) for\n",
    "                    category in movie_reviews.categories() for fileid in\n",
    "                        movie_reviews.fileids(category)]"
   ]
  },
  {
   "cell_type": "code",
   "execution_count": 4,
   "id": "2ed2a35b",
   "metadata": {},
   "outputs": [],
   "source": [
    "random.seed(2000)\n",
    "random.shuffle(raw_movie_docs)\n",
    "movie_test = raw_movie_docs[:200]\n",
    "movie_dev = raw_movie_docs[200:]"
   ]
  },
  {
   "cell_type": "code",
   "execution_count": 5,
   "id": "1c22baf3",
   "metadata": {},
   "outputs": [],
   "source": [
    "dev_test_data = movie_dev[:1600]\n",
    "train_data = movie_dev[1600:]"
   ]
  },
  {
   "cell_type": "code",
   "execution_count": 6,
   "id": "d5edeb38",
   "metadata": {},
   "outputs": [],
   "source": [
    "train_texts = []\n",
    "train_target = []\n",
    "\n",
    "dev_test_texts = []\n",
    "dev_test_target = []\n",
    "\n",
    "for item in train_data:\n",
    "    (reviews, labels) = item\n",
    "    train_texts.append(reviews)\n",
    "    train_target.append(labels)\n",
    "    \n",
    "for item in dev_test_data:\n",
    "    (reviews, labels) = item\n",
    "    dev_test_texts.append(reviews)\n",
    "    dev_test_target.append(labels)\n",
    "    "
   ]
  },
  {
   "cell_type": "code",
   "execution_count": 7,
   "id": "c4ace064",
   "metadata": {},
   "outputs": [],
   "source": [
    "from sklearn.feature_extraction.text import CountVectorizer"
   ]
  },
  {
   "cell_type": "code",
   "execution_count": 8,
   "id": "7e654c17",
   "metadata": {},
   "outputs": [
    {
     "data": {
      "text/plain": [
       "CountVectorizer()"
      ]
     },
     "execution_count": 8,
     "metadata": {},
     "output_type": "execute_result"
    }
   ],
   "source": [
    "v = CountVectorizer()\n",
    "v.fit(train_texts)"
   ]
  },
  {
   "cell_type": "code",
   "execution_count": 9,
   "id": "fe385864",
   "metadata": {},
   "outputs": [
    {
     "data": {
      "text/plain": [
       "<200x14344 sparse matrix of type '<class 'numpy.int64'>'\n",
       "\twith 68224 stored elements in Compressed Sparse Row format>"
      ]
     },
     "execution_count": 9,
     "metadata": {},
     "output_type": "execute_result"
    }
   ],
   "source": [
    "train_vectors = v.transform(train_texts)\n",
    "dev_test_vectors = v.transform(dev_test_texts)\n",
    "\n",
    "train_vectors"
   ]
  },
  {
   "cell_type": "code",
   "execution_count": 10,
   "id": "33998545",
   "metadata": {},
   "outputs": [
    {
     "data": {
      "text/plain": [
       "MultinomialNB()"
      ]
     },
     "execution_count": 10,
     "metadata": {},
     "output_type": "execute_result"
    }
   ],
   "source": [
    "clf = MultinomialNB()\n",
    "clf.fit(train_vectors, train_target)\n"
   ]
  },
  {
   "cell_type": "code",
   "execution_count": 11,
   "id": "75e399c8",
   "metadata": {},
   "outputs": [
    {
     "data": {
      "text/plain": [
       "array(['pos'], dtype='<U3')"
      ]
     },
     "execution_count": 11,
     "metadata": {},
     "output_type": "execute_result"
    }
   ],
   "source": [
    "dev_test_texts[14]\n",
    "clf.predict(dev_test_vectors[14])\n"
   ]
  },
  {
   "cell_type": "code",
   "execution_count": 12,
   "id": "b0cb78c5",
   "metadata": {},
   "outputs": [
    {
     "data": {
      "text/plain": [
       "array(['neg', 'pos', 'pos', ..., 'neg', 'pos', 'pos'], dtype='<U3')"
      ]
     },
     "execution_count": 12,
     "metadata": {},
     "output_type": "execute_result"
    }
   ],
   "source": [
    "clf.predict(dev_test_vectors)"
   ]
  },
  {
   "cell_type": "code",
   "execution_count": 13,
   "id": "a444f039",
   "metadata": {},
   "outputs": [
    {
     "data": {
      "text/plain": [
       "0.768125"
      ]
     },
     "execution_count": 13,
     "metadata": {},
     "output_type": "execute_result"
    }
   ],
   "source": [
    "clf.score(dev_test_vectors, dev_test_target)"
   ]
  },
  {
   "cell_type": "markdown",
   "id": "b4e1a11e",
   "metadata": {},
   "source": [
    "## 1b) Parameters of the vectorizer "
   ]
  },
  {
   "cell_type": "code",
   "execution_count": 14,
   "id": "b61f7519",
   "metadata": {},
   "outputs": [],
   "source": [
    "def calculateScore(binary,ngramRange):\n",
    "    v = CountVectorizer(binary=binary,ngram_range=ngramRange)\n",
    "    v.fit(train_texts)\n",
    "    train_vectors = v.transform(train_texts)\n",
    "    dev_test_vectors = v.transform(dev_test_texts)\n",
    "    clf = MultinomialNB()\n",
    "    clf.fit(train_vectors, train_target)\n",
    "    return(clf.score(dev_test_vectors, dev_test_target))"
   ]
  },
  {
   "cell_type": "code",
   "execution_count": 15,
   "id": "b3838556",
   "metadata": {},
   "outputs": [
    {
     "data": {
      "text/plain": [
       "0.768125"
      ]
     },
     "execution_count": 15,
     "metadata": {},
     "output_type": "execute_result"
    }
   ],
   "source": [
    "calculateScore(False,(1,1))"
   ]
  },
  {
   "cell_type": "code",
   "execution_count": 16,
   "id": "b4c8008c",
   "metadata": {},
   "outputs": [
    {
     "data": {
      "text/plain": [
       "0.7625"
      ]
     },
     "execution_count": 16,
     "metadata": {},
     "output_type": "execute_result"
    }
   ],
   "source": [
    "calculateScore(True,(1,1))"
   ]
  },
  {
   "cell_type": "code",
   "execution_count": 17,
   "id": "ed42ae79",
   "metadata": {},
   "outputs": [
    {
     "data": {
      "text/plain": [
       "0.734375"
      ]
     },
     "execution_count": 17,
     "metadata": {},
     "output_type": "execute_result"
    }
   ],
   "source": [
    "calculateScore(False,(1,2))"
   ]
  },
  {
   "cell_type": "code",
   "execution_count": 18,
   "id": "b8180a9d",
   "metadata": {},
   "outputs": [
    {
     "data": {
      "text/plain": [
       "0.784375"
      ]
     },
     "execution_count": 18,
     "metadata": {},
     "output_type": "execute_result"
    }
   ],
   "source": [
    "calculateScore(True,(1,2))"
   ]
  },
  {
   "cell_type": "code",
   "execution_count": 19,
   "id": "73a3e03f",
   "metadata": {},
   "outputs": [
    {
     "data": {
      "text/plain": [
       "0.7225"
      ]
     },
     "execution_count": 19,
     "metadata": {},
     "output_type": "execute_result"
    }
   ],
   "source": [
    "calculateScore(False,(1,3))"
   ]
  },
  {
   "cell_type": "code",
   "execution_count": 20,
   "id": "241153a5",
   "metadata": {},
   "outputs": [
    {
     "data": {
      "text/plain": [
       "0.774375"
      ]
     },
     "execution_count": 20,
     "metadata": {},
     "output_type": "execute_result"
    }
   ],
   "source": [
    "calculateScore(True,(1,3))"
   ]
  },
  {
   "cell_type": "markdown",
   "id": "1ca16c03",
   "metadata": {},
   "source": [
    "# Exercice 2\n",
    "\n",
    "## 2a)"
   ]
  },
  {
   "cell_type": "code",
   "execution_count": null,
   "id": "a214705e",
   "metadata": {},
   "outputs": [],
   "source": []
  }
 ],
 "metadata": {
  "kernelspec": {
   "display_name": "Python 3 (ipykernel)",
   "language": "python",
   "name": "python3"
  },
  "language_info": {
   "codemirror_mode": {
    "name": "ipython",
    "version": 3
   },
   "file_extension": ".py",
   "mimetype": "text/x-python",
   "name": "python",
   "nbconvert_exporter": "python",
   "pygments_lexer": "ipython3",
   "version": "3.9.7"
  }
 },
 "nbformat": 4,
 "nbformat_minor": 5
}
