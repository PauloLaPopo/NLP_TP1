{
 "cells": [
  {
   "cell_type": "markdown",
   "id": "637467e0",
   "metadata": {},
   "source": [
    "# Mandatory assigment 1 Part A\n",
    "\n",
    "### Exercice 1 Conditional frequency distributions"
   ]
  },
  {
   "cell_type": "code",
   "execution_count": 1,
   "id": "04fe0c76",
   "metadata": {},
   "outputs": [],
   "source": [
    "import nltk\n",
    "\n",
    "from nltk.corpus import brown\n"
   ]
  },
  {
   "cell_type": "markdown",
   "id": "cb70fcfd",
   "metadata": {},
   "source": [
    "Question a."
   ]
  },
  {
   "cell_type": "code",
   "execution_count": 2,
   "id": "9dd926d1",
   "metadata": {},
   "outputs": [
    {
     "name": "stdout",
     "output_type": "stream",
     "text": [
      "       fiction government       news   religion    romance \n",
      " he       1308        169        642        206       1068 \n",
      "her        413          3        121          8        680 \n",
      "him        382         26         93         94        340 \n",
      "she        425          1         77         12        728 \n"
     ]
    }
   ],
   "source": [
    "cfd = nltk.ConditionalFreqDist(\n",
    "           (target, genre)\n",
    "           for genre in ['news', 'religion', \n",
    "                    'government', 'fiction', 'romance'] \n",
    "           for w in brown.words(categories=genre)\n",
    "           for target in ['he','she','her','him' ]\n",
    "           if w.lower()==target)\n",
    "cfd.tabulate()"
   ]
  },
  {
   "cell_type": "markdown",
   "id": "2696d0a1",
   "metadata": {},
   "source": [
    "Question b.\n",
    "\n",
    "We can see that the male gender is more present than the female gender. Nevertheless, there are more 'her' than 'him' in the texts. We can also talk about the big difference between the number of 'he' and 'she' in the government category"
   ]
  },
  {
   "cell_type": "markdown",
   "id": "6d50c208",
   "metadata": {},
   "source": [
    "Question c."
   ]
  },
  {
   "cell_type": "code",
   "execution_count": 3,
   "id": "69cf4e71",
   "metadata": {},
   "outputs": [],
   "source": [
    "nominative = ['he', 'she']\n",
    "objective  = ['him', 'her']\n",
    "masculine  = ['he', 'him']\n",
    "feminine   = ['she', 'her']\n",
    "\n",
    "pronouns = ['he','she','her','him']\n",
    "\n",
    "forms = []\n",
    "for word in brown.words():\n",
    "    if word in pronouns:\n",
    "        if word in nominative:\n",
    "            form = 'nominative'\n",
    "        else:\n",
    "            form = 'objective'\n",
    "        if word in masculine:\n",
    "            gender = 'masculine'\n",
    "        else:\n",
    "            gender = 'feminine'\n",
    "        forms.append((form, gender))"
   ]
  },
  {
   "cell_type": "code",
   "execution_count": 4,
   "id": "ef85b7e0",
   "metadata": {},
   "outputs": [
    {
     "name": "stdout",
     "output_type": "stream",
     "text": [
      "            feminine masculine \n",
      "nominative      1949      6566 \n",
      " objective      2885      2576 \n"
     ]
    }
   ],
   "source": [
    "forms_cfd = nltk.ConditionalFreqDist(forms)\n",
    "forms_cfd.tabulate()"
   ]
  },
  {
   "cell_type": "code",
   "execution_count": 5,
   "id": "1fbfab64",
   "metadata": {},
   "outputs": [
    {
     "data": {
      "text/html": [
       "<div>\n",
       "<style scoped>\n",
       "    .dataframe tbody tr th:only-of-type {\n",
       "        vertical-align: middle;\n",
       "    }\n",
       "\n",
       "    .dataframe tbody tr th {\n",
       "        vertical-align: top;\n",
       "    }\n",
       "\n",
       "    .dataframe thead th {\n",
       "        text-align: right;\n",
       "    }\n",
       "</style>\n",
       "<table border=\"1\" class=\"dataframe\">\n",
       "  <thead>\n",
       "    <tr style=\"text-align: right;\">\n",
       "      <th></th>\n",
       "      <th>masculine</th>\n",
       "      <th>feminine</th>\n",
       "    </tr>\n",
       "  </thead>\n",
       "  <tbody>\n",
       "    <tr>\n",
       "      <th>nominative</th>\n",
       "      <td>0.718224</td>\n",
       "      <td>0.403186</td>\n",
       "    </tr>\n",
       "    <tr>\n",
       "      <th>objective</th>\n",
       "      <td>0.281776</td>\n",
       "      <td>0.596814</td>\n",
       "    </tr>\n",
       "  </tbody>\n",
       "</table>\n",
       "</div>"
      ],
      "text/plain": [
       "            masculine  feminine\n",
       "nominative   0.718224  0.403186\n",
       "objective    0.281776  0.596814"
      ]
     },
     "execution_count": 5,
     "metadata": {},
     "output_type": "execute_result"
    }
   ],
   "source": [
    "import pandas as pd\n",
    "\n",
    "pd.DataFrame(forms_cfd).transpose()/pd.DataFrame(forms_cfd).sum(axis=1)"
   ]
  },
  {
   "cell_type": "markdown",
   "id": "4ee0eac6",
   "metadata": {},
   "source": [
    "Question d."
   ]
  },
  {
   "cell_type": "code",
   "execution_count": 6,
   "id": "b65236ca",
   "metadata": {},
   "outputs": [
    {
     "data": {
      "text/html": [
       "<div>\n",
       "<style scoped>\n",
       "    .dataframe tbody tr th:only-of-type {\n",
       "        vertical-align: middle;\n",
       "    }\n",
       "\n",
       "    .dataframe tbody tr th {\n",
       "        vertical-align: top;\n",
       "    }\n",
       "\n",
       "    .dataframe thead th {\n",
       "        text-align: right;\n",
       "    }\n",
       "</style>\n",
       "<table border=\"1\" class=\"dataframe\">\n",
       "  <thead>\n",
       "    <tr style=\"text-align: right;\">\n",
       "      <th></th>\n",
       "      <th>masculine</th>\n",
       "      <th>feminine</th>\n",
       "    </tr>\n",
       "  </thead>\n",
       "  <tbody>\n",
       "    <tr>\n",
       "      <th>PPs</th>\n",
       "      <td>6418.0</td>\n",
       "      <td>1775.0</td>\n",
       "    </tr>\n",
       "    <tr>\n",
       "      <th>PPss</th>\n",
       "      <td>36.0</td>\n",
       "      <td>16.0</td>\n",
       "    </tr>\n",
       "    <tr>\n",
       "      <th>PPS</th>\n",
       "      <td>6561.0</td>\n",
       "      <td>1946.0</td>\n",
       "    </tr>\n",
       "    <tr>\n",
       "      <th>PPO</th>\n",
       "      <td>2572.0</td>\n",
       "      <td>1106.0</td>\n",
       "    </tr>\n",
       "  </tbody>\n",
       "</table>\n",
       "</div>"
      ],
      "text/plain": [
       "      masculine  feminine\n",
       "PPs      6418.0    1775.0\n",
       "PPss       36.0      16.0\n",
       "PPS      6561.0    1946.0\n",
       "PPO      2572.0    1106.0"
      ]
     },
     "execution_count": 6,
     "metadata": {},
     "output_type": "execute_result"
    }
   ],
   "source": [
    "pronouns = ['he','she','her','him','hers','his']\n",
    "wanted_tags = ['PN$', 'PP$', 'PPO','PP$$', 'PPS']\n",
    "tag_words = [x for x in brown.tagged_words() \n",
    "             if (x[0] in pronouns and x[1] in wanted_tags)]\n",
    "\n",
    "tag_words_cfd = nltk.ConditionalFreqDist(tag_words)\n",
    "\n",
    "masculine  = ['he', 'him','his']\n",
    "feminine   = ['she', 'her','hers']\n",
    "\n",
    "pps_ppo = pd.DataFrame(tag_words_cfd)\n",
    "\n",
    "pps_ppo.index = ['PPs', 'PPss', 'PPS', 'PPO']\n",
    "\n",
    "grouped_pps_ppo = pd.concat([pps_ppo[masculine].sum(axis=1),pps_ppo[feminine].sum(axis=1)],  axis=1)\n",
    "grouped_pps_ppo.columns = ['masculine', 'feminine']\n",
    "grouped_pps_ppo"
   ]
  },
  {
   "cell_type": "code",
   "execution_count": 7,
   "id": "40ede763",
   "metadata": {},
   "outputs": [
    {
     "data": {
      "text/html": [
       "<div>\n",
       "<style scoped>\n",
       "    .dataframe tbody tr th:only-of-type {\n",
       "        vertical-align: middle;\n",
       "    }\n",
       "\n",
       "    .dataframe tbody tr th {\n",
       "        vertical-align: top;\n",
       "    }\n",
       "\n",
       "    .dataframe thead th {\n",
       "        text-align: right;\n",
       "    }\n",
       "</style>\n",
       "<table border=\"1\" class=\"dataframe\">\n",
       "  <thead>\n",
       "    <tr style=\"text-align: right;\">\n",
       "      <th></th>\n",
       "      <th>masculine</th>\n",
       "      <th>feminine</th>\n",
       "    </tr>\n",
       "  </thead>\n",
       "  <tbody>\n",
       "    <tr>\n",
       "      <th>PPs</th>\n",
       "      <td>0.411753</td>\n",
       "      <td>0.366508</td>\n",
       "    </tr>\n",
       "    <tr>\n",
       "      <th>PPss</th>\n",
       "      <td>0.002310</td>\n",
       "      <td>0.003304</td>\n",
       "    </tr>\n",
       "    <tr>\n",
       "      <th>PPS</th>\n",
       "      <td>0.420928</td>\n",
       "      <td>0.401817</td>\n",
       "    </tr>\n",
       "    <tr>\n",
       "      <th>PPO</th>\n",
       "      <td>0.165009</td>\n",
       "      <td>0.228371</td>\n",
       "    </tr>\n",
       "  </tbody>\n",
       "</table>\n",
       "</div>"
      ],
      "text/plain": [
       "      masculine  feminine\n",
       "PPs    0.411753  0.366508\n",
       "PPss   0.002310  0.003304\n",
       "PPS    0.420928  0.401817\n",
       "PPO    0.165009  0.228371"
      ]
     },
     "execution_count": 7,
     "metadata": {},
     "output_type": "execute_result"
    }
   ],
   "source": [
    "grouped_pps_ppo/grouped_pps_ppo.sum(axis=0)"
   ]
  },
  {
   "cell_type": "markdown",
   "id": "83fad60c",
   "metadata": {},
   "source": [
    "We can now see the percentage has balanced between the feminine personal pronoun in nominative form and in objective form. For the masculine personal pronoun, we also see a balance between the nominative and objective form."
   ]
  },
  {
   "cell_type": "markdown",
   "id": "1450d94f",
   "metadata": {},
   "source": [
    "Question f."
   ]
  },
  {
   "cell_type": "code",
   "execution_count": 8,
   "id": "6c02ed1f",
   "metadata": {},
   "outputs": [
    {
     "data": {
      "text/plain": [
       "<AxesSubplot:>"
      ]
     },
     "execution_count": 8,
     "metadata": {},
     "output_type": "execute_result"
    },
    {
     "data": {
      "image/png": "[encoded data removed]",
      "text/plain": [
       "<Figure size 432x288 with 1 Axes>"
      ]
     },
     "metadata": {
      "needs_background": "light"
     },
     "output_type": "display_data"
    }
   ],
   "source": [
    "grouped_pps_ppo.plot.bar()"
   ]
  },
  {
   "cell_type": "markdown",
   "id": "d7b44440",
   "metadata": {},
   "source": [
    "Question g.\n",
    "\n",
    "This exercise has enabled us to understand several things. Firstly, about the use and occurrence of gender in the Brown Corpus texts, and secondly, about the subtleties to be taken into account when analysing a text. \n",
    "At the outset, we saw that male pronouns were used much more than female pronouns, especially in the government category. This can be explained by the discrimination of women throughout human history as well as the prejudices of society. \n",
    "We then saw that objective pronouns were more present in the female gender than in the male gender. \n",
    "In the rest of the exercise, we saw that we had to pay attention to the subtleties of the language in order to have a viable analysis since her is not only the feminine equivalent of him, but also of his.\n",
    "Following a more detailed analysis of the occurrence of pronouns, we found a balance in the 2 genders, which seems more logical.\n",
    "The Brown Corpus was first published in 1961. That was more than 60 years ago and the time was totally different. This may explain why the male gender is much more present than the female gender, knowing the context of the time and the differences between men and women."
   ]
  }
 ],
 "metadata": {
  "kernelspec": {
   "display_name": "Python 3 (ipykernel)",
   "language": "python",
   "name": "python3"
  },
  "language_info": {
   "codemirror_mode": {
    "name": "ipython",
    "version": 3
   },
   "file_extension": ".py",
   "mimetype": "text/x-python",
   "name": "python",
   "nbconvert_exporter": "python",
   "pygments_lexer": "ipython3",
   "version": "3.9.7"
  }
 },
 "nbformat": 4,
 "nbformat_minor": 5
}
